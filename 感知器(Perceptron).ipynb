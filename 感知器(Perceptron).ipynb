{
 "cells": [
  {
   "cell_type": "markdown",
   "metadata": {},
   "source": [
    "# 感知器(Perceptron)"
   ]
  },
  {
   "cell_type": "markdown",
   "metadata": {},
   "source": [
    "##### 先引入我們需要的packages"
   ]
  },
  {
   "cell_type": "code",
   "execution_count": 1,
   "metadata": {},
   "outputs": [],
   "source": [
    "import os \n",
    "import numpy as np\n",
    "import random\n",
    "import matplotlib.pyplot as plt"
   ]
  },
  {
   "cell_type": "markdown",
   "metadata": {},
   "source": [
    "##### 設定我們有30個點，其中15個是圈圈，15個是叉叉"
   ]
  },
  {
   "cell_type": "code",
   "execution_count": null,
   "metadata": {},
   "outputs": [],
   "source": [
    "# 這裡我們建立一個30*2的矩陣x\n",
    "# 30代表我們有30個點，2代表為2維空間(平面)\n",
    "x=np.zeros((30,2))\n",
    "# 這裡我們建立一個長度30的向量y\n",
    "# 用來儲存我們的標記資料是圈圈(+1)還是叉叉(-1)\n",
    "y=np.zeros(30)\n",
    "# 因為有30筆資料，所以跑30個迴圈\n",
    "for i in range(0,30): \n",
    "    # 標記y前半段0~14為圈圈(+1)，後半段15~29為叉叉(-1)\n",
    "    # 也就是圈圈15個點，叉叉15個點\n",
    "    f=0.3\n",
    "    if(i<15):\n",
    "        y[i]=1\n",
    "        x[i,0],x[i,1]=random.random()+f,random.random()+f\n",
    "    else:\n",
    "        y[i]=-1\n",
    "        x[i,0],x[i,1]=random.random()-f,random.random()-f\n",
    "    # 這裡我們隨機給定我們資料的位置\n",
    "    # random.random()就是從0到1隨機產生一個浮點數\n",
    "    # 而f可以決定我們圈圈和叉叉兩組數據分的越開或是越近\n",
    "    \n",
    "# 設定我們輸出圖片的大小\n",
    "plt.rcParams[\"figure.figsize\"] = (18,18)\n",
    "#畫出圈圈的點，bo：b代表藍色、o代表圈圈、marksize為大小\n",
    "plt.plot(x[:15,0],x[:15,1],\"bo\",markersize=20)\n",
    "#畫出叉叉的點，rX：r代表紅色、X代表叉叉、marksize為大小\n",
    "plt.plot(x[15:,0],x[15:,1],\"rX\",markersize=20)\n",
    "# 設定x和y軸座標的字體大小\n",
    "plt.xticks(fontsize=30)\n",
    "plt.yticks(fontsize=30)\n",
    "#畫出來\n",
    "plt.show()"
   ]
  },
  {
   "cell_type": "markdown",
   "metadata": {},
   "source": [
    "##### 定義我們一些會需要用的方程式\n",
    "##### (1) Sign function (2) 找錯誤點的方程式 (3) 計算錯誤點個數的方程式 (4) 繪圖方程式"
   ]
  },
  {
   "cell_type": "code",
   "execution_count": 2,
   "metadata": {},
   "outputs": [],
   "source": [
    "# 這裡我們定義我們的sign function\n",
    "def sign(w,x):\n",
    "    # np.dot(w,x)=w0*x0+w1*x1+w2*x2\n",
    "    # 所以當大於0，我們回傳一，反之則-1\n",
    "    if(np.dot(w,x)>0):\n",
    "        return 1\n",
    "    else:\n",
    "        return -1\n",
    "# 這裡我們定義我們尋找分類錯誤點的方程式\n",
    "def search_error(w,x):\n",
    "    # 我們用while迴圈跑\n",
    "    while True:\n",
    "        # 這裡我們從0~29隨機挑一個數字\n",
    "        # 也就是我們30個點隨機挑一個\n",
    "        i=random.randint(0,29)\n",
    "        # 這裡我們check他有沒有分類錯誤\n",
    "        if(sign(w,x[:,i])!=y[i]):\n",
    "            # 找到錯的之後，我們分別把這個點\n",
    "            # 的位置和是否為圈圈或叉叉記下來\n",
    "            err_x=x[:,i]\n",
    "            err_y=y[i]\n",
    "            # 然後結束我們的while迴圈\n",
    "            break\n",
    "        # 沒有分類錯誤，就繼續隨機挑直到找到錯為止\n",
    "    # 最後回傳我們的錯誤點資訊\n",
    "    return err_x,err_y\n",
    "# 這裡我們定義計算錯誤點數的方程式\n",
    "def compute_error(w,x):\n",
    "    # 初始化\n",
    "    err=0\n",
    "    # 檢查全部的點\n",
    "    for i in range(0,30):\n",
    "        # 如果分類錯了，就+1個\n",
    "        if(sign(w,x[:,i])!=y[i]):\n",
    "            err+=1\n",
    "    # 回傳錯誤個數\n",
    "    return err\n",
    "# 這裡我們定義畫圖方程式\n",
    "def plot_diagram(w,x):\n",
    "    plt.rcParams[\"figure.figsize\"] = (18,18)\n",
    "    plt.plot(x[1,:15],x[2,:15],\"bo\",markersize=20)\n",
    "    plt.plot(x[1,15:],x[2,15:],\"rX\",markersize=20)\n",
    "    # 這裡是畫出分割線的算法\n",
    "    # 我們知道分割線滿足 w0*x0+w1*x1+w2*x2=0\n",
    "    # 所以 x2=-(w1/w2)*x1-(w0/w2)*x0\n",
    "    # 斜率 = -w1/w2、截距 = -w0/w2\n",
    "    m=-w[1]/w[2]\n",
    "    b=-w[0]/w[2]\n",
    "    plt.plot([-0.3,1.3],[m*-0.3+b,m*1.3+b],\"k-\",linewidth=6)\n",
    "    plt.xticks(fontsize=30)\n",
    "    plt.yticks(fontsize=30)\n",
    "    # xlim就是限制我們圖輸出的x座標\n",
    "    # ylim就是限制我們圖輸出的y座標\n",
    "    plt.xlim([-0.3,1.3])\n",
    "    plt.ylim([-0.3,1.3])\n",
    "    plt.show()"
   ]
  },
  {
   "cell_type": "markdown",
   "metadata": {},
   "source": [
    "##### 執行我們感知器演算法"
   ]
  },
  {
   "cell_type": "code",
   "execution_count": 3,
   "metadata": {},
   "outputs": [
    {
     "ename": "NameError",
     "evalue": "name 'x' is not defined",
     "output_type": "error",
     "traceback": [
      "\u001b[1;31m---------------------------------------------------------------------------\u001b[0m",
      "\u001b[1;31mNameError\u001b[0m                                 Traceback (most recent call last)",
      "\u001b[1;32m<ipython-input-3-6261d6c1ad53>\u001b[0m in \u001b[0;36m<module>\u001b[1;34m\u001b[0m\n\u001b[0;32m      5\u001b[0m \u001b[1;31m# 加1是為了之後乘上w0，他就會一直保持w0\u001b[0m\u001b[1;33m\u001b[0m\u001b[1;33m\u001b[0m\u001b[1;33m\u001b[0m\u001b[0m\n\u001b[0;32m      6\u001b[0m \u001b[0mones\u001b[0m\u001b[1;33m=\u001b[0m\u001b[0mnp\u001b[0m\u001b[1;33m.\u001b[0m\u001b[0mones\u001b[0m\u001b[1;33m(\u001b[0m\u001b[1;36m30\u001b[0m\u001b[1;33m)\u001b[0m\u001b[1;33m\u001b[0m\u001b[1;33m\u001b[0m\u001b[0m\n\u001b[1;32m----> 7\u001b[1;33m \u001b[0mxx\u001b[0m\u001b[1;33m=\u001b[0m\u001b[0mnp\u001b[0m\u001b[1;33m.\u001b[0m\u001b[0mvstack\u001b[0m\u001b[1;33m(\u001b[0m\u001b[1;33m[\u001b[0m\u001b[0mones\u001b[0m\u001b[1;33m,\u001b[0m\u001b[0mx\u001b[0m\u001b[1;33m[\u001b[0m\u001b[1;33m:\u001b[0m\u001b[1;33m,\u001b[0m\u001b[1;36m0\u001b[0m\u001b[1;33m]\u001b[0m\u001b[1;33m,\u001b[0m\u001b[0mx\u001b[0m\u001b[1;33m[\u001b[0m\u001b[1;33m:\u001b[0m\u001b[1;33m,\u001b[0m\u001b[1;36m1\u001b[0m\u001b[1;33m]\u001b[0m\u001b[1;33m]\u001b[0m\u001b[1;33m)\u001b[0m\u001b[1;33m\u001b[0m\u001b[1;33m\u001b[0m\u001b[0m\n\u001b[0m\u001b[0;32m      8\u001b[0m \u001b[1;31m# 設定我們演算法要跑幾次\u001b[0m\u001b[1;33m\u001b[0m\u001b[1;33m\u001b[0m\u001b[1;33m\u001b[0m\u001b[0m\n\u001b[0;32m      9\u001b[0m \u001b[0mT\u001b[0m\u001b[1;33m=\u001b[0m\u001b[1;36m500\u001b[0m\u001b[1;33m\u001b[0m\u001b[1;33m\u001b[0m\u001b[0m\n",
      "\u001b[1;31mNameError\u001b[0m: name 'x' is not defined"
     ]
    }
   ],
   "source": [
    "# 初始化權重w\n",
    "w=np.zeros(3)\n",
    "# 這裡我們在每一筆輸入資料前加一筆為1的資料\n",
    "# ex:x=[0.2 0.3] --> xx=[1 0.2 0.3]\n",
    "# 加1是為了之後乘上w0，他就會一直保持w0\n",
    "ones=np.ones(30)\n",
    "xx=np.vstack([ones,x[:,0],x[:,1]])\n",
    "# 設定我們演算法要跑幾次\n",
    "T=500\n",
    "# 我們先計算初始狀況有積個分類錯誤\n",
    "# 照理來說電腦一開始會把圈圈和叉叉全部\n",
    "# 分在同一類，所以會有15個分類錯誤\n",
    "error=compute_error(w,xx)\n",
    "print(error)\n",
    "# 開始迴圈\n",
    "for t in range(0,T):\n",
    "    # 這裡引入tmp_error用於比較上一次的error數量\n",
    "    tmp_error=0\n",
    "    # 隨機挑一個錯誤的點\n",
    "    error_x,error_y=search_error(w,xx)\n",
    "    # 更新我們的w\n",
    "    w=w+error_y*error_x\n",
    "    # 然後計算更新後的w，其錯誤的個數\n",
    "    tmp_error=compute_error(w,xx)\n",
    "    # 如果更新後錯誤率下降\n",
    "    # 我們就更新我們的錯誤率\n",
    "    # 並把它畫出來\n",
    "    if(tmp_error<error):\n",
    "        error=tmp_error\n",
    "        print(error)\n",
    "        plot_diagram(w,xx)\n",
    "        # 如果沒有錯誤點就停止迴圈\n",
    "        if(error==0):\n",
    "            break"
   ]
  },
  {
   "cell_type": "code",
   "execution_count": null,
   "metadata": {},
   "outputs": [],
   "source": []
  }
 ],
 "metadata": {
  "kernelspec": {
   "display_name": "Python 3",
   "language": "python",
   "name": "python3"
  },
  "language_info": {
   "codemirror_mode": {
    "name": "ipython",
    "version": 3
   },
   "file_extension": ".py",
   "mimetype": "text/x-python",
   "name": "python",
   "nbconvert_exporter": "python",
   "pygments_lexer": "ipython3",
   "version": "3.7.4"
  }
 },
 "nbformat": 4,
 "nbformat_minor": 2
}
