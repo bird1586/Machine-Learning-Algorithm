{
 "cells": [
  {
   "cell_type": "markdown",
   "metadata": {},
   "source": [
    "# 半正定嵌入演算法(Semidefinite Embedding)"
   ]
  },
  {
   "cell_type": "markdown",
   "metadata": {},
   "source": [
    "##### 先引入我們需要的packages"
   ]
  },
  {
   "cell_type": "code",
   "execution_count": 1,
   "metadata": {},
   "outputs": [],
   "source": [
    "import os \n",
    "import numpy as np\n",
    "import matplotlib.pyplot as plt\n",
    "from tqdm.notebook import tqdm\n",
    "import cvxpy as cp\n",
    "from scipy.io import loadmat  "
   ]
  },
  {
   "cell_type": "markdown",
   "metadata": {},
   "source": [
    "# MNIST Dataset"
   ]
  },
  {
   "cell_type": "code",
   "execution_count": 7,
   "metadata": {},
   "outputs": [
    {
     "data": {
      "image/png": "[encoded data removed]",
      "text/plain": [
       "<Figure size 1296x1296 with 100 Axes>"
      ]
     },
     "metadata": {},
     "output_type": "display_data"
    }
   ],
   "source": [
    "from sklearn.datasets import load_digits\n",
    "digits = load_digits()\n",
    "X=(digits.data/16)[:100]\n",
    "y=digits.target[:100]\n",
    "plt.rcParams[\"figure.figsize\"] = (18,18)\n",
    "plt.gray() \n",
    "for i in range(100):\n",
    "    plt.subplot(20, 20, i + 1)\n",
    "    plt.imshow(digits.images[i], cmap=plt.cm.gray, vmax=16, interpolation='nearest')\n",
    "    plt.xticks(())\n",
    "    plt.yticks(())\n",
    "plt.show() "
   ]
  },
  {
   "cell_type": "markdown",
   "metadata": {},
   "source": [
    "# Ball Tree"
   ]
  },
  {
   "cell_type": "code",
   "execution_count": 8,
   "metadata": {},
   "outputs": [],
   "source": [
    "def BuildSubtree(root,points,index,leaf_size,depth):\n",
    "    if(depth==0):\n",
    "        return\n",
    "    centroid=np.mean(points[index,:],axis=0)\n",
    "    root.centroid=centroid\n",
    "    root.radius=np.max(np.sum((points[index,:]-centroid)**2,axis=1))**0.5\n",
    "    farthest_point_1=np.argmax(np.sum((points[index,:]-centroid)**2,axis=1))\n",
    "    real_index_1=index[farthest_point_1]\n",
    "    distance_array_1=np.sum((points[index,:]-points[real_index_1,:])**2,axis=1)\n",
    "    farthest_point_2=np.argmax(np.sum((points[index,:]-points[real_index_1,:])**2,axis=1))\n",
    "    real_index_2=index[farthest_point_2]\n",
    "    distance_array_2=np.sum((points[index,:]-points[real_index_2,:])**2,axis=1)\n",
    "    BOOL=(distance_array_1<=distance_array_2)\n",
    "    child1_index,child2_index=index[BOOL],index[~BOOL]\n",
    "    root.index1,root.index2=real_index_1,real_index_2\n",
    "    if(len(child1_index)<=leaf_size and len(child2_index)<=leaf_size):\n",
    "        if(depth==1):\n",
    "            print(\"tree is not complete\")\n",
    "        root.child1=\"end\"\n",
    "        root.child2=\"end\"\n",
    "    elif(len(child1_index)<=leaf_size):\n",
    "        root.child1=\"end\"\n",
    "        root.child2=Tree()\n",
    "        BuildSubtree(root.child2,points,child2_index,leaf_size,depth-1)\n",
    "    elif(len(child2_index)<=leaf_size):\n",
    "        root.child2=\"end\"\n",
    "        root.child1=Tree()\n",
    "        BuildSubtree(root.child1,points,child1_index,leaf_size,depth-1)\n",
    "    else:\n",
    "        root.child1=Tree()\n",
    "        BuildSubtree(root.child1,points,child1_index,leaf_size,depth-1)\n",
    "        root.child2=Tree()\n",
    "        BuildSubtree(root.child2,points,child2_index,leaf_size,depth-1)\n",
    "    return"
   ]
  },
  {
   "cell_type": "markdown",
   "metadata": {},
   "source": [
    "# k-Nearest Neighbor Search"
   ]
  },
  {
   "cell_type": "code",
   "execution_count": 9,
   "metadata": {},
   "outputs": [],
   "source": [
    "def check(X,p,k,Q,index):\n",
    "    if(np.sum((p-X[index,:])**2)<np.sum((p-X[Q[0],:])**2)):\n",
    "        Q.append(index)\n",
    "        Q=np.array(Q)\n",
    "        Q=list(Q[np.argsort(-1*np.sum((p-X[Q,:])**2,axis=1))])\n",
    "        if(len(Q)>k):    \n",
    "            del Q[0]\n",
    "    return Q\n",
    "\n",
    "def kNN_search(X,p,k,Q,root):\n",
    "    if(np.sqrt(np.sum((p-root.centroid)**2))-root.radius>=np.sqrt(np.sum((p-X[Q[0],:])**2))):\n",
    "        return Q\n",
    "    elif(root.child1==\"end\" and root.child2==\"end\"):\n",
    "        Q=check(X,p,k,Q,root.index1)\n",
    "        Q=check(X,p,k,Q,root.index2)\n",
    "    elif(root.child1==\"end\"):\n",
    "        Q=check(X,p,k,Q,root.index1)\n",
    "        Q=kNN_search(X,p,k,Q,root.child2)\n",
    "    elif(root.child2==\"end\"):\n",
    "        Q=check(X,p,k,Q,root.index2)\n",
    "        Q=kNN_search(X,p,k,Q,root.child1)\n",
    "    else:\n",
    "        Q=kNN_search(X,p,k,Q,root.child1)\n",
    "        Q=kNN_search(X,p,k,Q,root.child2)\n",
    "    return Q    "
   ]
  },
  {
   "cell_type": "code",
   "execution_count": 10,
   "metadata": {},
   "outputs": [
    {
     "data": {
      "application/vnd.jupyter.widget-view+json": {
       "model_id": "fc65bdf5bd79459fb8415f55e9000dea",
       "version_major": 2,
       "version_minor": 0
      },
      "text/plain": [
       "HBox(children=(IntProgress(value=0), HTML(value='')))"
      ]
     },
     "metadata": {},
     "output_type": "display_data"
    },
    {
     "name": "stdout",
     "output_type": "stream",
     "text": [
      "\n"
     ]
    }
   ],
   "source": [
    "class Tree:\n",
    "    def __init__(self):\n",
    "        self.child1=None\n",
    "        self.child2=None\n",
    "        self.radius=None\n",
    "        self.centroid=None\n",
    "        self.index1=None\n",
    "        self.index2=None\n",
    "root=Tree()\n",
    "N,M=X.shape\n",
    "Index=np.array(range(0,N))\n",
    "BuildSubtree(root,X,Index,1,30)\n",
    "n_neighbors=10\n",
    "neighbors=np.zeros((N,n_neighbors))\n",
    "for i in tqdm(range(N)):\n",
    "    Q=[]\n",
    "    while(len(Q)!=n_neighbors+1):\n",
    "        Q=list(np.random.randint(N,size=1))\n",
    "        Q=kNN_search(X,X[i,:],n_neighbors+1,Q,root)\n",
    "    del Q[n_neighbors]\n",
    "    neighbors[i]=Q"
   ]
  },
  {
   "cell_type": "markdown",
   "metadata": {},
   "source": [
    "# SDE"
   ]
  },
  {
   "cell_type": "code",
   "execution_count": 11,
   "metadata": {},
   "outputs": [
    {
     "data": {
      "application/vnd.jupyter.widget-view+json": {
       "model_id": "456b576893e840e1b6592d0de6cba9b5",
       "version_major": 2,
       "version_minor": 0
      },
      "text/plain": [
       "HBox(children=(IntProgress(value=0), HTML(value='')))"
      ]
     },
     "metadata": {},
     "output_type": "display_data"
    },
    {
     "name": "stdout",
     "output_type": "stream",
     "text": [
      "\n"
     ]
    },
    {
     "data": {
      "text/plain": [
       "10.416963755517614"
      ]
     },
     "execution_count": 11,
     "metadata": {},
     "output_type": "execute_result"
    }
   ],
   "source": [
    "P = cp.Constant(np.dot(X,X.T))\n",
    "Q = cp.Variable((N,N), PSD=True)\n",
    "Q.value = np.zeros((N,N))\n",
    "ONES = cp.Constant(np.ones((N, 1)))\n",
    "T = cp.Constant(N)\n",
    "objective = cp.Maximize(cp.multiply((1 / T),cp.trace(Q))-cp.multiply((1 / (T * T)),cp.trace(cp.matmul(cp.matmul(Q, ONES), ONES.T))))\n",
    "constraints = [Q >> 0, cp.sum(Q, axis=1) == 0]\n",
    "neighbors=neighbors.astype(int)\n",
    "for i in tqdm(range(N)):\n",
    "    for j in  neighbors[i]:\n",
    "        constraints.append((P[i, i] + P[j, j] - P[i, j] - P[j, i]) -\n",
    "                           (Q[i, i] + Q[j, j] - Q[i, j] - Q[j, i]) == 0)\n",
    "problem = cp.Problem(objective, constraints)\n",
    "problem.solve(solver=cp.CVXOPT,eps=1e-2,max_iters=2500,warm_start=False)"
   ]
  },
  {
   "cell_type": "markdown",
   "metadata": {},
   "source": [
    "# LDL Decomposition"
   ]
  },
  {
   "cell_type": "code",
   "execution_count": 12,
   "metadata": {},
   "outputs": [],
   "source": [
    "from scipy.linalg import ldl\n",
    "l, d, perm = ldl(Q.value)\n",
    "X_sub=np.dot(l[:,:2],np.diag(np.diagonal(d)[:2]))"
   ]
  },
  {
   "cell_type": "markdown",
   "metadata": {},
   "source": [
    "# Plot"
   ]
  },
  {
   "cell_type": "code",
   "execution_count": 13,
   "metadata": {},
   "outputs": [
    {
     "data": {
      "image/png": "[encoded data removed]",
      "text/plain": [
       "<Figure size 1296x1296 with 1 Axes>"
      ]
     },
     "metadata": {
      "needs_background": "light"
     },
     "output_type": "display_data"
    }
   ],
   "source": [
    "color=[\"#FF0000\",\"#FFFF00\",\"#00FF00\",\"#00FFFF\",\"#0000FF\",\n",
    "       \"#FF00FF\",\"#FF0088\",\"#FF8800\",\"#00FF99\",\"#7700FF\"]\n",
    "plt.rcParams[\"figure.figsize\"] = (18,18)\n",
    "for i in range(0,10):\n",
    "    BOOL=(y==i)\n",
    "    plt.scatter(X_sub[BOOL,0],X_sub[BOOL,1],c=color[i],label=i)\n",
    "plt.xticks(fontsize=30)\n",
    "plt.yticks(fontsize=30)\n",
    "plt.legend(fontsize=20)\n",
    "plt.show()"
   ]
  },
  {
   "cell_type": "code",
   "execution_count": null,
   "metadata": {},
   "outputs": [],
   "source": []
  }
 ],
 "metadata": {
  "kernelspec": {
   "display_name": "Python 3",
   "language": "python",
   "name": "python3"
  },
  "language_info": {
   "codemirror_mode": {
    "name": "ipython",
    "version": 3
   },
   "file_extension": ".py",
   "mimetype": "text/x-python",
   "name": "python",
   "nbconvert_exporter": "python",
   "pygments_lexer": "ipython3",
   "version": "3.7.4"
  }
 },
 "nbformat": 4,
 "nbformat_minor": 2
}
