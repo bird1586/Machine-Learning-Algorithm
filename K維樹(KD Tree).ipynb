{
  "cells": [
    {
      "cell_type": "markdown",
      "metadata": {
        "id": "RZUVTF9jGipd"
      },
      "source": [
        "# K維樹(KD Tree)"
      ]
    },
    {
      "cell_type": "code",
      "source": [
        "[![Open In Colab](https://colab.research.google.com/assets/colab-badge.svg)](https://colab.research.google.com/github/timsainb/tensorflow2-generative-models/blob/master/1.0-Variational-Autoencoder-fashion-mnist.ipynb)"
      ],
      "metadata": {
        "id": "kJ7ZHlkEGjg8"
      },
      "execution_count": null,
      "outputs": []
    },
    {
      "cell_type": "markdown",
      "metadata": {
        "id": "L64HVPpvGipf"
      },
      "source": [
        "##### 先引入我們需要的packages"
      ]
    },
    {
      "cell_type": "code",
      "execution_count": null,
      "metadata": {
        "id": "WKz0ALu7Gipg"
      },
      "outputs": [],
      "source": [
        "import os\n",
        "import numpy as np\n",
        "import matplotlib.pyplot as plt\n",
        "from numpy import random\n",
        "from tqdm.notebook import tqdm\n",
        "from random import choices"
      ]
    },
    {
      "cell_type": "markdown",
      "metadata": {
        "id": "D2IsH27uGiph"
      },
      "source": [
        "# MNIST Dataset"
      ]
    },
    {
      "cell_type": "code",
      "execution_count": null,
      "metadata": {
        "id": "6nIReB1AGiph",
        "outputId": "42b3a325-c218-402c-a4b3-40e5c0252a9e"
      },
      "outputs": [
        {
          "data": {
            "image/png": "[encoded data removed]",
            "text/plain": [
              "<Figure size 1296x1296 with 100 Axes>"
            ]
          },
          "metadata": {},
          "output_type": "display_data"
        }
      ],
      "source": [
        "from sklearn.datasets import load_digits\n",
        "digits = load_digits()\n",
        "X=digits.data/16\n",
        "y=digits.target\n",
        "plt.rcParams[\"figure.figsize\"] = (18,18)\n",
        "plt.gray()\n",
        "for i in range(100):\n",
        "    plt.subplot(20, 20, i + 1)\n",
        "    plt.imshow(digits.images[i], cmap=plt.cm.gray, vmax=16, interpolation='nearest')\n",
        "    plt.xticks(())\n",
        "    plt.yticks(())\n",
        "plt.show()"
      ]
    },
    {
      "cell_type": "markdown",
      "metadata": {
        "id": "_XyyIo0JGipi"
      },
      "source": [
        "# KD Tree - Build"
      ]
    },
    {
      "cell_type": "code",
      "execution_count": null,
      "metadata": {
        "id": "BBHyGnKoGipi"
      },
      "outputs": [],
      "source": [
        "def BuildSubtree(root,points,index,depth):\n",
        "    if(depth==0):\n",
        "        return\n",
        "    length=len(index)\n",
        "    med=np.median(points[index,:],axis=0)\n",
        "    BOOL=abs(np.sum(points[index,:]<med,axis=0)-(length/2))\n",
        "    dim=np.argmin(BOOL)\n",
        "    median=med[dim]\n",
        "    left_index=np.intersect1d(np.where(points[:,dim]<median),index)\n",
        "    right_index=np.intersect1d(np.where(points[:,dim]>=median),index)\n",
        "    root.dim,root.median=dim,median\n",
        "    if(len(left_index)==1 and len(right_index)==1):\n",
        "        root.left=left_index\n",
        "        root.right=right_index\n",
        "        return\n",
        "    elif(len(left_index)==1):\n",
        "        root.left=left_index\n",
        "        root.right=Tree()\n",
        "        BuildSubtree(root.right,points,right_index,depth-1)\n",
        "        return\n",
        "    elif(len(right_index)==1):\n",
        "        root.right=right_index\n",
        "        root.left=Tree()\n",
        "        BuildSubtree(root.left,points,left_index,depth-1)\n",
        "        return\n",
        "    else:\n",
        "        root.left=Tree()\n",
        "        BuildSubtree(root.left,points,left_index,depth-1)\n",
        "        root.right=Tree()\n",
        "        BuildSubtree(root.right,points,right_index,depth-1)\n",
        "        return"
      ]
    },
    {
      "cell_type": "markdown",
      "metadata": {
        "id": "iTogwYfPGipj"
      },
      "source": [
        "# KD Tree - Search"
      ]
    },
    {
      "cell_type": "code",
      "execution_count": null,
      "metadata": {
        "id": "4d7EYDaqGipj"
      },
      "outputs": [],
      "source": [
        "def SearchSubtree(root,data):\n",
        "    if(type(root)==type(np.array(1))):\n",
        "        return int(root)\n",
        "    else:\n",
        "        if(root.median>data[root.dim]):\n",
        "            print(\"left\")\n",
        "            root=SearchSubtree(root.left,data)\n",
        "            return int(root)\n",
        "        else:\n",
        "            print(\"right\")\n",
        "            root=SearchSubtree(root.right,data)\n",
        "            return int(root)"
      ]
    },
    {
      "cell_type": "markdown",
      "metadata": {
        "id": "0sp05PjEGipk"
      },
      "source": [
        "# Build and Search"
      ]
    },
    {
      "cell_type": "code",
      "execution_count": null,
      "metadata": {
        "id": "kJ6ZO3QmGipk",
        "outputId": "6fe831a2-bced-47c5-885c-fb9b2d46b7dd"
      },
      "outputs": [
        {
          "name": "stdout",
          "output_type": "stream",
          "text": [
            "right\n",
            "right\n",
            "left\n",
            "left\n",
            "right\n",
            "left\n",
            "left\n",
            "right\n",
            "left\n",
            "right\n",
            "left\n",
            "100\n"
          ]
        }
      ],
      "source": [
        "class Tree:\n",
        "    def __init__(self):\n",
        "        self.left=None\n",
        "        self.right=None\n",
        "        self.dim=None\n",
        "        self.median=None\n",
        "root=Tree()\n",
        "N,M=X.shape\n",
        "Index=np.array(range(0,N))\n",
        "BuildSubtree(root,X,Index,15)\n",
        "search_index=SearchSubtree(root,X[100,:])\n",
        "print(search_index)"
      ]
    },
    {
      "cell_type": "code",
      "execution_count": null,
      "metadata": {
        "id": "2G1mT8mgGipk"
      },
      "outputs": [],
      "source": []
    }
  ],
  "metadata": {
    "kernelspec": {
      "display_name": "Python 3",
      "language": "python",
      "name": "python3"
    },
    "language_info": {
      "codemirror_mode": {
        "name": "ipython",
        "version": 3
      },
      "file_extension": ".py",
      "mimetype": "text/x-python",
      "name": "python",
      "nbconvert_exporter": "python",
      "pygments_lexer": "ipython3",
      "version": "3.7.4"
    },
    "colab": {
      "provenance": []
    }
  },
  "nbformat": 4,
  "nbformat_minor": 0
}